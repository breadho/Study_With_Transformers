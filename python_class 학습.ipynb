{
 "cells": [
  {
   "cell_type": "code",
   "execution_count": null,
   "id": "527af500",
   "metadata": {},
   "outputs": [],
   "source": [
    "import torch.nn as nn\n",
    "from transformers import XLMRobertaConfig\n",
    "from transformers.modeling_outputs import TokenClassifierOutput\n",
    "from transformers.models.roberta.modeling_roberta import RobertaModel\n",
    "from transformers.models.roberta.modeling_roberta import RobertaPreTrainedModel\n",
    "\n",
    "class XLMRobertaForTokenClassification(RobertaPreTrainedModel):\n",
    "    config_class = XLMRobertaConfig\n",
    "    \n",
    "    def __init__(self, config):\n",
    "        super().__init__(config)\n",
    "        self.num_labels = config.num_labels\n",
    "        # 모델 바디를 로드합니다. \n",
    "        self.roberta = RobertaModel(config, add_pooling_layer = False)\n",
    "        # 토큰 분류 헤드를 준비\n",
    "        self.dropout = nn.Dropout(config.hidden_dropout_prob)\n",
    "        self.classifier = nn.linear(config.hidden_size, config.num_labels)\n",
    "        # 가중치를 로드하고 초기화 합니다. \n",
    "        self.init_weights()\n",
    "        \n",
    "    def forward(self, input_ids = None, attention_mask = None, token_type_ids = None, labels = None, **kwargs):\n",
    "        \n",
    "        # 모델 바디를 사용해 인코더 표현을 얻습니다.\n",
    "        outputs = self.roberta(input_ids, attention_mask = attention_mask, token_type_ids = token_type_ids, **kwargs)\n",
    "        \n",
    "        # 인코더 표현을 헤드에 통과시킵니다. \n",
    "        sequence_output = self.dropout(outputs[0])\n",
    "        logits = self.classifier(sequence_output)\n",
    "        \n",
    "        # 손실을 계산합니다. \n",
    "        loss = None\n",
    "        \n",
    "        if labels is not None:\n",
    "            loss_fct = nn.CrossEntropyLoss()\n",
    "            loss = loss_fct(logits.view(-1, self.num_labels), labels.view(-1))\n",
    "            \n",
    "        # 모델 출력 객체를 반환합니다. \n",
    "        return TokenClassifierOutput(loss = loss, \n",
    "                                     logits = logits, \n",
    "                                     hidden_states = outputs.hidden_states, \n",
    "                                     attentions = outputs.attentions)    "
   ]
  },
  {
   "cell_type": "markdown",
   "id": "b645ac00",
   "metadata": {},
   "source": [
    "# 08. 클래스"
   ]
  },
  {
   "cell_type": "markdown",
   "id": "b90e13f1",
   "metadata": {},
   "source": [
    "## 8.1 클래스 소개"
   ]
  },
  {
   "cell_type": "markdown",
   "id": "8dd38cc7",
   "metadata": {},
   "source": [
    "**생산 공정과 클래스**"
   ]
  },
  {
   "cell_type": "markdown",
   "id": "91837fdb",
   "metadata": {},
   "source": [
    "소프트웨어 설계 분야에서도 붕어빵 틀이나 자동차의 프레임 같은 개념이 도입 --> 클래스(class)\n",
    "\n",
    "객체 지향 프로그래밍은 프로그램을 객체라는 기본 단위로 나누고 이들의 상호 작용을 서술하는 방식"
   ]
  },
  {
   "cell_type": "markdown",
   "id": "2309229e",
   "metadata": {},
   "source": [
    "* 객체 지향 프로그래밍으로 구현\n",
    "\n",
    "먼저 틀이나 설계도 역할을 하는 SuperMario 클래스를 정의\n",
    "\n",
    "설계도로부터 생성된 것을 객체 -> 함수, 데이터  ~~~~ \n",
    "\n",
    "붕어빵 틀이 클래스, 붕어빵 틀로 생성된 것을 객체한다. \n",
    "\n"
   ]
  },
  {
   "cell_type": "code",
   "execution_count": 2,
   "id": "705e7d37",
   "metadata": {},
   "outputs": [
    {
     "name": "stdout",
     "output_type": "stream",
     "text": [
      "mario 1p 30 0\n",
      "mario 2p 40 0\n"
     ]
    }
   ],
   "source": [
    "class SuperMario:\n",
    "    def __init__(self):\n",
    "        self.xpos = 10\n",
    "        self.ypos = 0\n",
    "        \n",
    "    def move(self, xoffset, yoffset):\n",
    "        self.xpos += xoffset\n",
    "        self.ypos += yoffset\n",
    "             \n",
    "mario_1p = SuperMario()\n",
    "mario_2p = SuperMario()\n",
    "             \n",
    "mario_1p.move(20, 0) # x축의 20만큼 움직임\n",
    "mario_2p.move(30, 0) # x축의 30만큼 움직임\n",
    "             \n",
    "print(\"mario 1p\", mario_1p.xpos, mario_1p.ypos)\n",
    "\n",
    "print(\"mario 2p\", mario_2p.xpos, mario_2p.ypos)\n",
    "               "
   ]
  },
  {
   "cell_type": "markdown",
   "id": "4acbbafc",
   "metadata": {},
   "source": [
    "**클래스와 객체**\n",
    "\n",
    "클래스 --> 만들어진 실체: 객체 \n",
    "\n",
    "객체는 영어 단어 발음 그대로 오브젝트, 인스턴스라고도 불리우니 \n",
    "\n",
    "객체, 오브젝트, 인스턴스는 모두 같은 의미를 가짐\n",
    "\n",
    "**파이썬 클래스**\n",
    "\n",
    "- 절차 지향 프로그래밍은 데이터와 데이터를 처리하는 함수가 파이썬 파일 안에 위치\n",
    "\n",
    "- 객체 지향 프로그래밍에서는 데이터와 이 데이터를 처리하는 함수를 클래스라는 공간 안으로 넣어주는 개념\n",
    "\n",
    "- 함수와 데이터가 파일 안에서 위치하는 것이 아니라 파일 안에 클래스라는 공간을 하나 더 만들고 그 공간 안으로 데이터와 이 데이터를 처리하는 함수를 같이 넣어줌\n",
    "\n",
    "클래스 공간 안으로 데이터와 데이터를 처리하는 함수를 같이 넣어두고 이 틀 또는 설계도를 사용하는 것이 바로 객체 지향 프로그래밍"
   ]
  },
  {
   "cell_type": "markdown",
   "id": "b4223d39",
   "metadata": {},
   "source": [
    "https://hwiyong.tistory.com/392"
   ]
  },
  {
   "cell_type": "markdown",
   "id": "4cb4b522",
   "metadata": {},
   "source": [
    "## 8.2 클래스 정의\n",
    "\n",
    "클래스를 정의하면 메모리에 클래스를 위한 공간이 할당됨\n",
    "\n",
    "  - 그 공간 안으로 변수나 함수를 넣을 수가 있음"
   ]
  },
  {
   "cell_type": "code",
   "execution_count": 3,
   "id": "5a27be14",
   "metadata": {},
   "outputs": [],
   "source": [
    "class 붕어빵틀:\n",
    "    pass\n",
    "\n",
    "내빵 = 붕어빵틀()"
   ]
  },
  {
   "cell_type": "code",
   "execution_count": 4,
   "id": "276275a1",
   "metadata": {},
   "outputs": [],
   "source": [
    "class 붕어빵틀:\n",
    "    pass\n",
    "\n",
    "내빵 = 붕어빵틀()\n",
    "너빵 = 붕어빵틀()"
   ]
  },
  {
   "cell_type": "markdown",
   "id": "5bbc8b91",
   "metadata": {},
   "source": [
    "객체 공간에 직접 데이터를 넣어보는 것을 코딩\n"
   ]
  },
  {
   "cell_type": "code",
   "execution_count": 5,
   "id": "bca109b4",
   "metadata": {},
   "outputs": [],
   "source": [
    "class 붕어빵틀:\n",
    "    pass\n",
    "\n",
    "내빵 = 붕어빵틀()\n",
    "너빵 = 붕어빵틀()\n",
    "내빵.앙꼬 = \"딸기맛\"\n",
    "너빵.앙꼬 = \"초코맛\""
   ]
  },
  {
   "cell_type": "code",
   "execution_count": 6,
   "id": "e39533e7",
   "metadata": {},
   "outputs": [
    {
     "data": {
      "text/plain": [
       "'딸기맛'"
      ]
     },
     "execution_count": 6,
     "metadata": {},
     "output_type": "execute_result"
    }
   ],
   "source": [
    "내빵.앙꼬"
   ]
  },
  {
   "cell_type": "markdown",
   "id": "a85765f1",
   "metadata": {},
   "source": [
    "내빵이라는 변수느 객체 공간을 바인딩 --> 변수 다음에 점(.)을 찍으면 그 공간 안을 의미하고\n",
    "\n",
    "따라서 내빵.앙꼬 = \"딸기맛\"은 내빵이 가리키는 메모리 공간 안에 변수인 앙꼬와 값이 딸기맛이 저장됨\n",
    "\n",
    "이때 딕셔너리가 사용되어 {\"앙꼬\":\"딸기맛\"}으로 저장됨"
   ]
  },
  {
   "cell_type": "code",
   "execution_count": 7,
   "id": "5267d03b",
   "metadata": {},
   "outputs": [
    {
     "name": "stdout",
     "output_type": "stream",
     "text": [
      "딸기맛\n",
      "초코맛\n"
     ]
    }
   ],
   "source": [
    "print(내빵.앙꼬)\n",
    "print(너빵.앙꼬)"
   ]
  },
  {
   "cell_type": "markdown",
   "id": "f867b2a4",
   "metadata": {},
   "source": [
    "## 8.3 클래스와 메서드"
   ]
  },
  {
   "cell_type": "markdown",
   "id": "0e52213b",
   "metadata": {},
   "source": [
    "클래스 안에 정의된 함수를 특별히 메서드(method)라고 부름\n",
    "\n",
    "  - 클래스의 동작을 표현하는데 사용됨"
   ]
  },
  {
   "cell_type": "markdown",
   "id": "114d664c",
   "metadata": {},
   "source": [
    "데이터는 클래스 공간관 객체 공간에 모두 저장될 수 있는데 일반적으로 객체 공간에 저장됨\n",
    "\n",
    "  - 왜냐하면 각 객체는 동일한 클래스로부터 생성되었지만 데이터는 서로 달라야하기 때문에"
   ]
  },
  {
   "cell_type": "markdown",
   "id": "439950c2",
   "metadata": {},
   "source": [
    "이전 절에서 붕어빵 클래스로부터 생성된 객체 공간에 앙꼬를 넣는 행위를 함수로 만들고 클래스 안에 정의해주면 이를 메서드라고 부름"
   ]
  },
  {
   "cell_type": "code",
   "execution_count": 8,
   "id": "7248220d",
   "metadata": {},
   "outputs": [],
   "source": [
    "class 붕어빵틀:\n",
    "    def 앙꼬넣기(어떤빵, 넣을앙꼬):\n",
    "        어떤빵.앙꼬 = 넣을앙꼬\n",
    "\n",
    "내빵 = 붕어빵틀()"
   ]
  },
  {
   "cell_type": "markdown",
   "id": "d4100fc3",
   "metadata": {},
   "source": [
    "**메서드 호출하기**\n",
    "\n",
    "함수를 정의했다면 함수이름()과 같은 형태로 함수를 호출할 수 있음\n",
    "\n",
    "메서드 역시 클래스 공간안에 위치하는 함수이므로 동일하게 호출이 가능\n",
    "\n",
    "다만 클래스 안에 위치하기 때문에 먼저 클래스이름을 통해 클래스 공간에 접근\n",
    "\n",
    "클래스 공간에 접근하려면 클래스 이름에 점(.)을 찍어주면 됨"
   ]
  },
  {
   "cell_type": "code",
   "execution_count": 12,
   "id": "729e5dc0",
   "metadata": {},
   "outputs": [],
   "source": [
    "class 붕어빵틀:\n",
    "    def 앙꼬넣기(어떤빵, 넣을앙꼬):\n",
    "        어떤빵.앙꼬 = 넣을앙꼬\n",
    "\n",
    "내빵 = 붕어빵틀()\n",
    "\n",
    "# 메서드 호출\n",
    "붕어빵틀.앙꼬넣기(내빵, \"딸기슈크림맛\")"
   ]
  },
  {
   "cell_type": "code",
   "execution_count": 13,
   "id": "6fa5d005",
   "metadata": {},
   "outputs": [
    {
     "data": {
      "text/plain": [
       "'딸기슈크림맛'"
      ]
     },
     "execution_count": 13,
     "metadata": {},
     "output_type": "execute_result"
    }
   ],
   "source": [
    "내빵.앙꼬"
   ]
  },
  {
   "cell_type": "markdown",
   "id": "88beb7a9",
   "metadata": {},
   "source": [
    "## 8.4 파이썬 클래스 self 이해하기"
   ]
  },
  {
   "cell_type": "code",
   "execution_count": 14,
   "id": "62ef0b39",
   "metadata": {},
   "outputs": [],
   "source": [
    "class 붕어빵틀:\n",
    "    def 앙꼬넣기(어떤빵, 넣을앙꼬):\n",
    "        어떤빵.앙꼬 = 넣을앙꼬 # 넣을앙꼬 함수의 파라미터, 앙꼬는 객체 내의 변수"
   ]
  },
  {
   "cell_type": "code",
   "execution_count": 15,
   "id": "65bd7e07",
   "metadata": {},
   "outputs": [],
   "source": [
    "class 계좌:\n",
    "    def 개설(누구계좌, 이름, 잔고):\n",
    "        누구계좌.이름 = 이름 # 오른쪽 이름은 함수의 파라미터, 왼쪽은 객체 내의 변수\n",
    "        누구계좌.잔고 = 잔과"
   ]
  },
  {
   "cell_type": "markdown",
   "id": "e7d50b3a",
   "metadata": {},
   "source": [
    "파이썬에서는 관례적으로 클래스 내의 함수인 메서드의 첫 번째 파라미터의 이름을 통일해서 사용함 \n",
    "\n",
    "그 이름이 바로 self임\n",
    "\n",
    "붕어빵 클래스에서 어떤 빵이라는 변수를 self 치환\n",
    "\n",
    "계좌 클래스에서 누구 계좌라는 변수도 self로 치환\n"
   ]
  },
  {
   "cell_type": "code",
   "execution_count": 16,
   "id": "09ab1692",
   "metadata": {},
   "outputs": [],
   "source": [
    "class 붕어빵틀:\n",
    "    def 앙꼬넣기(self, 넣을앙꼬):\n",
    "        self.앙꼬 = 넣을앙꼬 # 넣을앙꼬 함수의 파라미터, 앙꼬는 객체 내의 변수"
   ]
  },
  {
   "cell_type": "code",
   "execution_count": 17,
   "id": "93e33241",
   "metadata": {},
   "outputs": [],
   "source": [
    "class 계좌:\n",
    "    def 개설(self, 이름, 잔고):\n",
    "        self.이름 = 이름 # 오른쪽 이름은 함수의 파라미터, 왼쪽은 객체 내의 변수\n",
    "        self.잔고 = 잔과"
   ]
  },
  {
   "cell_type": "markdown",
   "id": "6f565473",
   "metadata": {},
   "source": [
    "이것이 바로 파이썬의 self 정체다. 정리해보면 self는 메서드가 호출될 때 해당 메서드가 참조할 객체를 바인딩하는 변수\n",
    "\n",
    "그래서 클래스 안에 정의된 모든 메서드의 첫 번재 인자로 self를 사용한다. "
   ]
  },
  {
   "cell_type": "markdown",
   "id": "655e67b9",
   "metadata": {},
   "source": [
    "## 8.5 메서드 호출 방식"
   ]
  },
  {
   "cell_type": "markdown",
   "id": "33d4e339",
   "metadata": {},
   "source": [
    "**메서드 호출**\n",
    "\n",
    "앞에서 메서드의 첫 번째 인자는 self이고 self는 메서드 호출 시 어떤 객체를 바인딩한다고 했음\n"
   ]
  },
  {
   "cell_type": "code",
   "execution_count": 18,
   "id": "c72c3633",
   "metadata": {},
   "outputs": [],
   "source": [
    "class 붕어빵틀:\n",
    "    def 앙꼬넣기(self, 앙꼬):\n",
    "        self.앙꼬 = 앙꼬 # 오른쪽 앙꼬는 파라미터, 왼쪽 앙꼬는 객체 내 변수"
   ]
  },
  {
   "cell_type": "code",
   "execution_count": 19,
   "id": "28b82f7b",
   "metadata": {},
   "outputs": [],
   "source": [
    "내빵 = 붕어빵틀()\n",
    "붕어빵틀.앙꼬넣기(내빵, '딸기맛크림')"
   ]
  },
  {
   "cell_type": "code",
   "execution_count": 20,
   "id": "38ca02c1",
   "metadata": {},
   "outputs": [
    {
     "name": "stdout",
     "output_type": "stream",
     "text": [
      "딸기맛크림\n"
     ]
    }
   ],
   "source": [
    "print(내빵.앙꼬)"
   ]
  },
  {
   "cell_type": "markdown",
   "id": "0d4c365e",
   "metadata": {},
   "source": [
    "붕어빵틀 클래스로부터 내빵이라는 하나의 객체를 생성했다.\n",
    "\n",
    "그리고 내빵에 앙꼬를 넣기위해 붕어빵틀 클래스 공간에 있는 앙꼬 넣기를 호출했다. \n",
    "\n",
    "이때 첫 번째 인자로 내빵을 넣어주고 두 번재 인자로 \"딸기맛크림\"을 전달함\n",
    "\n",
    "내빵에 저장된 앙꼬를 참조하기 위해 내빵.앙꼬를 화면에 프린트함\n",
    "\n",
    "앞서 객체와 클래스 공간에서 점(.)은 그 안을 의미\n",
    "\n",
    "따라서 내빵.앙꼬는 내빵이라는 변수가 바인딩하는 객체 공간안에서 앙꼬라는 변수를 찾고 이를 출력함"
   ]
  },
  {
   "cell_type": "markdown",
   "id": "13a279e5",
   "metadata": {},
   "source": [
    "**메서드 호출 방식의 비교**\n",
    "\n",
    "|방식 | 코드 예시 | 특징 |\n",
    "|:----|:-----------|:------|\n",
    "|클래스 공간으로부터 호출| 붕어빵틀.앙꼬넣기(내빵, '딸기맛') | - |\n",
    "|객체로부터 호출 | 내빵.앙꼬넣기(\"딸기맛\") | self 자리에 사용자가 인자를 넘겨 줄 필요가 없다.|\n"
   ]
  },
  {
   "cell_type": "markdown",
   "id": "defb91e3",
   "metadata": {},
   "source": [
    "**메서드 호출 이해하기**\n",
    "\n",
    "일반적으로 객체를 이용한 메서드 호출 방식을 사용한다.\n",
    "\n",
    "내빵.앙꼬넣기(\"딸기맛\") # self 파라미터는 자동으로 넘어옴"
   ]
  },
  {
   "cell_type": "code",
   "execution_count": 21,
   "id": "65724b94",
   "metadata": {},
   "outputs": [
    {
     "name": "stdout",
     "output_type": "stream",
     "text": [
      "[1, 2, 3, 4]\n"
     ]
    }
   ],
   "source": [
    "a = [1, 2, 3] # list 클래스의 객체 생성\n",
    "a.append(4)   # list 클래스의 정의된 append 메서드를 a 객체에 대해서 호출\n",
    "print(a)"
   ]
  },
  {
   "cell_type": "markdown",
   "id": "b835e777",
   "metadata": {},
   "source": [
    "1. 리스트 클래스의 객체를 생성\n",
    "\n",
    "2. 해당 객체로부터 append 메서드를 호출\n",
    "\n",
    "3. append 메서드의 첫 번째 인자 self에는 메서드를 호출하는 객체인 a가 자동으로 전달\n",
    "\n",
    "4. 원소를 추가하는 append 메서드는 a 객체에 원소를 추가함"
   ]
  },
  {
   "cell_type": "code",
   "execution_count": 22,
   "id": "9f512237",
   "metadata": {},
   "outputs": [
    {
     "data": {
      "text/plain": [
       "'HELLO'"
      ]
     },
     "execution_count": 22,
     "metadata": {},
     "output_type": "execute_result"
    }
   ],
   "source": [
    "b = \"hello\" # b는 문자열 클래스의 객체\n",
    "b.upper()  # 문자열 클래스의 upper 메서드 호출 (b 객체에 대해서)"
   ]
  },
  {
   "cell_type": "markdown",
   "id": "90114f59",
   "metadata": {},
   "source": [
    "문자열 클래스로부터 객체를 생성하고 해당 객체를 b라는 변수가 바인딩함\n",
    "\n",
    "따라서 b라는 변수를 통해 문자열 클래스에 있는 메서드를 호출할 수 있음\n",
    "\n",
    "이처럼 파이썬의 거의 모든 문법은 클래스를 기반으로 함.\n",
    "\n",
    "따라서 클래스에 대한 이해도에 따라 전체적인 문법 이해도가 달라짐"
   ]
  },
  {
   "cell_type": "markdown",
   "id": "35ef8639",
   "metadata": {},
   "source": [
    "## 8.6 생성자"
   ]
  },
  {
   "cell_type": "markdown",
   "id": "c266e01d",
   "metadata": {},
   "source": [
    "객체를 생성한 후 해당 객체에 데이터를 넣는 것이 아니라 객체가 생성될 때 데이터를 넣어주는 것이 편리함\n",
    "\n",
    "> 파이썬은 이를 위해 객체가 생성될 때 파이썬 인터프리터에 의해 자동으로 호출되는 특별한 메서드를 제공함. 중요한 점은 메서드를 사용자가 호출하는게 아니라 객체가 생성되면 자동으로 호출이 됨"
   ]
  },
  {
   "cell_type": "markdown",
   "id": "004e5485",
   "metadata": {},
   "source": [
    "이 메서드를 생성자라고 부르며 `__init__` 이라는 이름을 가짐"
   ]
  },
  {
   "cell_type": "code",
   "execution_count": 23,
   "id": "3d01fc9c",
   "metadata": {},
   "outputs": [],
   "source": [
    "class 붕어빵틀:\n",
    "    def __init__(self):\n",
    "        print(\"붕어빵 구어짐\")"
   ]
  },
  {
   "cell_type": "markdown",
   "id": "dcfd5056",
   "metadata": {},
   "source": [
    "앞서 생성자는 객체가 생성될 때 자동으로 호출됨"
   ]
  },
  {
   "cell_type": "code",
   "execution_count": 24,
   "id": "1bd3280e",
   "metadata": {},
   "outputs": [
    {
     "name": "stdout",
     "output_type": "stream",
     "text": [
      "붕어빵 구어짐\n"
     ]
    }
   ],
   "source": [
    "내빵 = 붕어빵틀()"
   ]
  },
  {
   "cell_type": "markdown",
   "id": "0a32c707",
   "metadata": {},
   "source": [
    "`붕어빵 구어짐` 출력되는 이유는 객체가 생성될 때 파이썬 인터프리터가 `__init__` 메서드를 호출했기 때문임. \n",
    "\n",
    "**생성자의 이름은 `__init__` 이다.**\n",
    "\n",
    "**생성자는 객체가 생성될 때 자동으로 호출된다.**"
   ]
  },
  {
   "cell_type": "markdown",
   "id": "81ef1578",
   "metadata": {},
   "source": [
    "생성자를 사용하면 객체가 생성될 때 앙꼬를 넣을 수 있음\n",
    "\n",
    "기존의 앙꼬넣기 메서드의 이름을 __init__ 으로 변경함. \n",
    "\n",
    "  - 객체가 생성될 때 이제 자동으로 앙꼬를 넣는 생성자가 호출됨\n",
    "  \n",
    "  - 따라서 객체를 생성할 때 '딸기맛'이라는 앙꼬도 같이 전달해줘야 함"
   ]
  },
  {
   "cell_type": "code",
   "execution_count": 25,
   "id": "fd20c9a0",
   "metadata": {},
   "outputs": [],
   "source": [
    "class 붕어빵틀:\n",
    "    def __init__(self, 앙꼬):\n",
    "        self.앙꼬 = 앙꼬 # 오른쪽 앙꼬는 파라미터, 왼쪽 앙꼬는 객체 내의 변수\n",
    "        \n",
    "내빵 = 붕어빵틀(\"딸기맛\")"
   ]
  },
  {
   "cell_type": "markdown",
   "id": "7eb3062d",
   "metadata": {},
   "source": [
    "만약에 `__init__`의 인자 중 self를 제외한 인자를 넣지 않고 클래스를 이용해 객체를 생성하면 에러가 발생함"
   ]
  },
  {
   "cell_type": "code",
   "execution_count": 26,
   "id": "fd104dbb",
   "metadata": {},
   "outputs": [
    {
     "ename": "TypeError",
     "evalue": "붕어빵틀.__init__() missing 1 required positional argument: '앙꼬'",
     "output_type": "error",
     "traceback": [
      "\u001b[0;31m---------------------------------------------------------------------------\u001b[0m",
      "\u001b[0;31mTypeError\u001b[0m                                 Traceback (most recent call last)",
      "Cell \u001b[0;32mIn[26], line 1\u001b[0m\n\u001b[0;32m----> 1\u001b[0m 내빵 \u001b[38;5;241m=\u001b[39m \u001b[43m붕어빵틀\u001b[49m\u001b[43m(\u001b[49m\u001b[43m)\u001b[49m\n",
      "\u001b[0;31mTypeError\u001b[0m: 붕어빵틀.__init__() missing 1 required positional argument: '앙꼬'"
     ]
    }
   ],
   "source": [
    "내빵 = 붕어빵틀()"
   ]
  },
  {
   "cell_type": "markdown",
   "id": "08dd34eb",
   "metadata": {},
   "source": [
    "## 8.7 클래스 상속(inheritance)"
   ]
  },
  {
   "cell_type": "markdown",
   "id": "16f956cf",
   "metadata": {},
   "source": [
    "**클래스 상속**\n",
    "\n",
    "클래스를 사용함으로써 여러가지 이점이 있는데 이번 절에서 배울 상속도 그 중 하나임\n",
    "\n",
    "기존의 클래스 기능을 그대로 가져온 후 기능을 추가할 수 있는 것이 바로 상속(inheritance)"
   ]
  },
  {
   "cell_type": "markdown",
   "id": "5aac99e9",
   "metadata": {},
   "source": [
    "간단한 예제를 통해서 상속 기능을 이해해 봄"
   ]
  },
  {
   "cell_type": "code",
   "execution_count": 1,
   "id": "da0f3ba4",
   "metadata": {},
   "outputs": [
    {
     "name": "stdout",
     "output_type": "stream",
     "text": [
      "sing a song\n"
     ]
    }
   ],
   "source": [
    "class Parent:\n",
    "    def sing(self):\n",
    "        print(\"sing a song\")\n",
    "        \n",
    "father = Parent()\n",
    "father.sing()"
   ]
  },
  {
   "cell_type": "code",
   "execution_count": 2,
   "id": "781c95bb",
   "metadata": {},
   "outputs": [],
   "source": [
    "class LuckyChild(Parent):\n",
    "    pass\n",
    "\n",
    "luckyboy = LuckyChild()"
   ]
  },
  {
   "cell_type": "code",
   "execution_count": 3,
   "id": "07d7a14e",
   "metadata": {},
   "outputs": [
    {
     "name": "stdout",
     "output_type": "stream",
     "text": [
      "sing a song\n"
     ]
    }
   ],
   "source": [
    "luckyboy.sing()"
   ]
  },
  {
   "cell_type": "code",
   "execution_count": 4,
   "id": "8143fa90",
   "metadata": {},
   "outputs": [
    {
     "data": {
      "text/plain": [
       "__main__.LuckyChild"
      ]
     },
     "execution_count": 4,
     "metadata": {},
     "output_type": "execute_result"
    }
   ],
   "source": [
    "type(luckyboy)"
   ]
  },
  {
   "cell_type": "markdown",
   "id": "3467ee87",
   "metadata": {},
   "source": [
    "luckyboy.sing() 이라는 구문을 살펴보면 sing 메서드를 호출.\n",
    "\n",
    "이때 sing 메서드는 먼저 luckyboy 객체에서 찾음.\n",
    "\n",
    "해당 객체에 없다면 클래스 공간인 LuckyChild에서 sing을 찾음\n",
    "\n",
    "그래도 없다면 상속받은 클래스 공간인 Parent에서 sing을 찾게 되는데,\n",
    "\n",
    "Parent에서 sing 메서드가 존재하므로 Parent에서 sing을 호출함"
   ]
  },
  {
   "cell_type": "markdown",
   "id": "ec0a2be3",
   "metadata": {},
   "source": [
    "**속성 참조**"
   ]
  },
  {
   "cell_type": "code",
   "execution_count": 1,
   "id": "0b9a6d37",
   "metadata": {},
   "outputs": [
    {
     "name": "stdout",
     "output_type": "stream",
     "text": [
      "sing a song\n",
      "shuffle dance\n"
     ]
    }
   ],
   "source": [
    "class Parent:\n",
    "    def sing(self):\n",
    "        print(\"sing a song\")\n",
    "        \n",
    "class LuckyChild(Parent):\n",
    "    def dance(self):\n",
    "        print(\"shuffle dance\")\n",
    "        \n",
    "luckyboy = LuckyChild()\n",
    "luckyboy.sing()\n",
    "luckyboy.dance()"
   ]
  },
  {
   "cell_type": "code",
   "execution_count": 2,
   "id": "96db675f",
   "metadata": {},
   "outputs": [],
   "source": [
    "my_parent = Parent()"
   ]
  },
  {
   "cell_type": "code",
   "execution_count": 3,
   "id": "7e570d75",
   "metadata": {},
   "outputs": [
    {
     "ename": "AttributeError",
     "evalue": "'Parent' object has no attribute 'dance'",
     "output_type": "error",
     "traceback": [
      "\u001b[0;31m---------------------------------------------------------------------------\u001b[0m",
      "\u001b[0;31mAttributeError\u001b[0m                            Traceback (most recent call last)",
      "Cell \u001b[0;32mIn[3], line 1\u001b[0m\n\u001b[0;32m----> 1\u001b[0m \u001b[43mmy_parent\u001b[49m\u001b[38;5;241;43m.\u001b[39;49m\u001b[43mdance\u001b[49m()\n",
      "\u001b[0;31mAttributeError\u001b[0m: 'Parent' object has no attribute 'dance'"
     ]
    }
   ],
   "source": [
    "my_parent.dance()"
   ]
  },
  {
   "cell_type": "code",
   "execution_count": null,
   "id": "9eace8b2",
   "metadata": {},
   "outputs": [],
   "source": []
  },
  {
   "cell_type": "code",
   "execution_count": null,
   "id": "ad354da9",
   "metadata": {},
   "outputs": [],
   "source": []
  },
  {
   "cell_type": "code",
   "execution_count": null,
   "id": "3ef6f056",
   "metadata": {},
   "outputs": [],
   "source": []
  },
  {
   "cell_type": "code",
   "execution_count": null,
   "id": "7777ef45",
   "metadata": {},
   "outputs": [],
   "source": []
  },
  {
   "cell_type": "code",
   "execution_count": null,
   "id": "3036471d",
   "metadata": {},
   "outputs": [],
   "source": []
  },
  {
   "cell_type": "code",
   "execution_count": null,
   "id": "e37c6440",
   "metadata": {},
   "outputs": [],
   "source": []
  },
  {
   "cell_type": "code",
   "execution_count": null,
   "id": "c21fd01d",
   "metadata": {},
   "outputs": [],
   "source": []
  },
  {
   "cell_type": "code",
   "execution_count": null,
   "id": "616c706b",
   "metadata": {},
   "outputs": [],
   "source": []
  },
  {
   "cell_type": "code",
   "execution_count": null,
   "id": "0731389c",
   "metadata": {},
   "outputs": [],
   "source": []
  },
  {
   "cell_type": "code",
   "execution_count": null,
   "id": "1e508c32",
   "metadata": {},
   "outputs": [],
   "source": []
  },
  {
   "cell_type": "code",
   "execution_count": null,
   "id": "9769aaa1",
   "metadata": {},
   "outputs": [],
   "source": []
  }
 ],
 "metadata": {
  "hide_input": false,
  "kernelspec": {
   "display_name": "Python 3 (ipykernel)",
   "language": "python",
   "name": "python3"
  },
  "language_info": {
   "codemirror_mode": {
    "name": "ipython",
    "version": 3
   },
   "file_extension": ".py",
   "mimetype": "text/x-python",
   "name": "python",
   "nbconvert_exporter": "python",
   "pygments_lexer": "ipython3",
   "version": "3.10.11"
  },
  "varInspector": {
   "cols": {
    "lenName": 16,
    "lenType": 16,
    "lenVar": 40
   },
   "kernels_config": {
    "python": {
     "delete_cmd_postfix": "",
     "delete_cmd_prefix": "del ",
     "library": "var_list.py",
     "varRefreshCmd": "print(var_dic_list())"
    },
    "r": {
     "delete_cmd_postfix": ") ",
     "delete_cmd_prefix": "rm(",
     "library": "var_list.r",
     "varRefreshCmd": "cat(var_dic_list()) "
    }
   },
   "types_to_exclude": [
    "module",
    "function",
    "builtin_function_or_method",
    "instance",
    "_Feature"
   ],
   "window_display": false
  }
 },
 "nbformat": 4,
 "nbformat_minor": 5
}
