{
 "cells": [
  {
   "cell_type": "code",
   "execution_count": 1,
   "id": "fee02ee7-debc-4fd8-bce2-8e7291c56194",
   "metadata": {},
   "outputs": [],
   "source": [
    "text = \"\"\"Dear Amazon, last week I ordered an Optimus Prime action figure \\\n",
    "from your online store in Germany. Unfortunately, when I opened the package, \\\n",
    "I discovered to my horror that I had been sent an action figure of Megatron \\\n",
    "instead! As a lifelong enemy of the Decepticons, I hope you can understand my \\\n",
    "dilemma. To resolve the issue, I demand an exchange of Megatron for the \\\n",
    "Optimus Prime figure I ordered. Enclosed are copies of my records concerning \\\n",
    "this purchase. I expect to hear from you soon. Sincerely, Bumblebee.\"\"\""
   ]
  },
  {
   "cell_type": "code",
   "execution_count": 2,
   "id": "b1ca9311-3a44-4bc0-8577-1e203b1f6863",
   "metadata": {},
   "outputs": [
    {
     "name": "stderr",
     "output_type": "stream",
     "text": [
      "2023-05-14 12:50:24.493883: I tensorflow/core/util/port.cc:110] oneDNN custom operations are on. You may see slightly different numerical results due to floating-point round-off errors from different computation orders. To turn them off, set the environment variable `TF_ENABLE_ONEDNN_OPTS=0`.\n",
      "2023-05-14 12:50:24.518149: I tensorflow/core/platform/cpu_feature_guard.cc:182] This TensorFlow binary is optimized to use available CPU instructions in performance-critical operations.\n",
      "To enable the following instructions: AVX2 AVX_VNNI FMA, in other operations, rebuild TensorFlow with the appropriate compiler flags.\n",
      "2023-05-14 12:50:24.894364: W tensorflow/compiler/tf2tensorrt/utils/py_utils.cc:38] TF-TRT Warning: Could not find TensorRT\n",
      "No model was supplied, defaulted to distilbert-base-uncased-finetuned-sst-2-english and revision af0f99b (https://huggingface.co/distilbert-base-uncased-finetuned-sst-2-english).\n",
      "Using a pipeline without specifying a model name and revision in production is not recommended.\n"
     ]
    }
   ],
   "source": [
    "from transformers import pipeline\n",
    "\n",
    "classifier = pipeline(\"text-classification\")"
   ]
  },
  {
   "cell_type": "markdown",
   "id": "151f2400-26a6-490e-81ce-d8d9e3d93b20",
   "metadata": {},
   "source": [
    "- 각 파이프라인은 텍스트 문자열(또는 문자열의 리스트)을 입력으로 받고 예측 리스트를 반환함\n",
    "\n",
    "- 각 예측은 하나의 파이썬 딕셔너리이므로 판다스의 DataFrame으로 멋지게 출력할 수 있음"
   ]
  },
  {
   "cell_type": "code",
   "execution_count": 3,
   "id": "6f69e165-8884-4ebf-9442-281ea7131ee8",
   "metadata": {},
   "outputs": [
    {
     "data": {
      "text/html": [
       "<div>\n",
       "<style scoped>\n",
       "    .dataframe tbody tr th:only-of-type {\n",
       "        vertical-align: middle;\n",
       "    }\n",
       "\n",
       "    .dataframe tbody tr th {\n",
       "        vertical-align: top;\n",
       "    }\n",
       "\n",
       "    .dataframe thead th {\n",
       "        text-align: right;\n",
       "    }\n",
       "</style>\n",
       "<table border=\"1\" class=\"dataframe\">\n",
       "  <thead>\n",
       "    <tr style=\"text-align: right;\">\n",
       "      <th></th>\n",
       "      <th>label</th>\n",
       "      <th>score</th>\n",
       "    </tr>\n",
       "  </thead>\n",
       "  <tbody>\n",
       "    <tr>\n",
       "      <th>0</th>\n",
       "      <td>NEGATIVE</td>\n",
       "      <td>0.901545</td>\n",
       "    </tr>\n",
       "  </tbody>\n",
       "</table>\n",
       "</div>"
      ],
      "text/plain": [
       "      label     score\n",
       "0  NEGATIVE  0.901545"
      ]
     },
     "execution_count": 3,
     "metadata": {},
     "output_type": "execute_result"
    }
   ],
   "source": [
    "import pandas as pd\n",
    "\n",
    "outputs = classifier(text)\n",
    "pd.DataFrame(outputs)"
   ]
  },
  {
   "cell_type": "markdown",
   "id": "fb2422de-8435-45f9-b308-b2cbc3dd118b",
   "metadata": {},
   "source": [
    "* 모델은 텍스트가 부정적이라고 확신함 화난 고객의 불만을 처리하고 있다는 뜻\n",
    "\n",
    "* 감성분석 작업에서 파이프라인은 POSITIVE와 NEGATIVE 레이블 중 하나를 반환함\n",
    "\n",
    "  - 출력되지 않은 레이블의 점수는 1-score로 계산하면 되기 때문"
   ]
  },
  {
   "cell_type": "markdown",
   "id": "3ed8b090-268a-4b62-8438-6e3ce3a7bf07",
   "metadata": {},
   "source": [
    "### 1.5.2 개체명 인식"
   ]
  },
  {
   "cell_type": "markdown",
   "id": "3459cbc6-2376-40ea-880d-566e61f708ca",
   "metadata": {},
   "source": [
    "* NLP에서는 제품, 장소, 사람 같은 실제 객체를 **개체명(named entity)** 라고 함\n",
    "\n",
    "  - 이런 개체명을 텍스트에서 추출하는 작업을 **개체명 인식(named entity reconition, NER)** 이라고 함\n",
    "  \n",
    "* 해당 파이프라인을 로드하고 고객 리뷰를 전달해 NER을 적용"
   ]
  },
  {
   "cell_type": "code",
   "execution_count": 4,
   "id": "dde753f1-0ee1-4a0f-82c4-6968bbe72da5",
   "metadata": {},
   "outputs": [
    {
     "name": "stderr",
     "output_type": "stream",
     "text": [
      "No model was supplied, defaulted to dbmdz/bert-large-cased-finetuned-conll03-english and revision f2482bf (https://huggingface.co/dbmdz/bert-large-cased-finetuned-conll03-english).\n",
      "Using a pipeline without specifying a model name and revision in production is not recommended.\n"
     ]
    },
    {
     "data": {
      "text/html": [
       "<div>\n",
       "<style scoped>\n",
       "    .dataframe tbody tr th:only-of-type {\n",
       "        vertical-align: middle;\n",
       "    }\n",
       "\n",
       "    .dataframe tbody tr th {\n",
       "        vertical-align: top;\n",
       "    }\n",
       "\n",
       "    .dataframe thead th {\n",
       "        text-align: right;\n",
       "    }\n",
       "</style>\n",
       "<table border=\"1\" class=\"dataframe\">\n",
       "  <thead>\n",
       "    <tr style=\"text-align: right;\">\n",
       "      <th></th>\n",
       "      <th>entity_group</th>\n",
       "      <th>score</th>\n",
       "      <th>word</th>\n",
       "      <th>start</th>\n",
       "      <th>end</th>\n",
       "    </tr>\n",
       "  </thead>\n",
       "  <tbody>\n",
       "    <tr>\n",
       "      <th>0</th>\n",
       "      <td>ORG</td>\n",
       "      <td>0.879010</td>\n",
       "      <td>Amazon</td>\n",
       "      <td>5</td>\n",
       "      <td>11</td>\n",
       "    </tr>\n",
       "    <tr>\n",
       "      <th>1</th>\n",
       "      <td>MISC</td>\n",
       "      <td>0.990859</td>\n",
       "      <td>Optimus Prime</td>\n",
       "      <td>36</td>\n",
       "      <td>49</td>\n",
       "    </tr>\n",
       "    <tr>\n",
       "      <th>2</th>\n",
       "      <td>LOC</td>\n",
       "      <td>0.999755</td>\n",
       "      <td>Germany</td>\n",
       "      <td>90</td>\n",
       "      <td>97</td>\n",
       "    </tr>\n",
       "    <tr>\n",
       "      <th>3</th>\n",
       "      <td>MISC</td>\n",
       "      <td>0.556571</td>\n",
       "      <td>Mega</td>\n",
       "      <td>208</td>\n",
       "      <td>212</td>\n",
       "    </tr>\n",
       "    <tr>\n",
       "      <th>4</th>\n",
       "      <td>PER</td>\n",
       "      <td>0.590255</td>\n",
       "      <td>##tron</td>\n",
       "      <td>212</td>\n",
       "      <td>216</td>\n",
       "    </tr>\n",
       "    <tr>\n",
       "      <th>5</th>\n",
       "      <td>ORG</td>\n",
       "      <td>0.669692</td>\n",
       "      <td>Decept</td>\n",
       "      <td>253</td>\n",
       "      <td>259</td>\n",
       "    </tr>\n",
       "    <tr>\n",
       "      <th>6</th>\n",
       "      <td>MISC</td>\n",
       "      <td>0.498349</td>\n",
       "      <td>##icons</td>\n",
       "      <td>259</td>\n",
       "      <td>264</td>\n",
       "    </tr>\n",
       "    <tr>\n",
       "      <th>7</th>\n",
       "      <td>MISC</td>\n",
       "      <td>0.775362</td>\n",
       "      <td>Megatron</td>\n",
       "      <td>350</td>\n",
       "      <td>358</td>\n",
       "    </tr>\n",
       "    <tr>\n",
       "      <th>8</th>\n",
       "      <td>MISC</td>\n",
       "      <td>0.987854</td>\n",
       "      <td>Optimus Prime</td>\n",
       "      <td>367</td>\n",
       "      <td>380</td>\n",
       "    </tr>\n",
       "    <tr>\n",
       "      <th>9</th>\n",
       "      <td>PER</td>\n",
       "      <td>0.812096</td>\n",
       "      <td>Bumblebee</td>\n",
       "      <td>502</td>\n",
       "      <td>511</td>\n",
       "    </tr>\n",
       "  </tbody>\n",
       "</table>\n",
       "</div>"
      ],
      "text/plain": [
       "  entity_group     score           word  start  end\n",
       "0          ORG  0.879010         Amazon      5   11\n",
       "1         MISC  0.990859  Optimus Prime     36   49\n",
       "2          LOC  0.999755        Germany     90   97\n",
       "3         MISC  0.556571           Mega    208  212\n",
       "4          PER  0.590255         ##tron    212  216\n",
       "5          ORG  0.669692         Decept    253  259\n",
       "6         MISC  0.498349        ##icons    259  264\n",
       "7         MISC  0.775362       Megatron    350  358\n",
       "8         MISC  0.987854  Optimus Prime    367  380\n",
       "9          PER  0.812096      Bumblebee    502  511"
      ]
     },
     "execution_count": 4,
     "metadata": {},
     "output_type": "execute_result"
    }
   ],
   "source": [
    "ner_tagger = pipeline(\"ner\", aggregation_strategy = \"simple\")\n",
    "outputs = ner_tagger(text)\n",
    "pd.DataFrame(outputs)"
   ]
  },
  {
   "cell_type": "markdown",
   "id": "efb3ac03-073c-4e5a-b0cb-323de4ec6245",
   "metadata": {},
   "source": [
    "* 이 파이프라인은 모든 개체명을 감지하고 ORG(조직), LOC(위치), PER(사람) 같은 카테고리에 할당함\n",
    "\n",
    "  - 이 예에서 모델 예측에 따라 단어를 그룹화하기 위해 aggregation_strategy 매개변수 사용\n",
    "  \n",
    "* 점수는 모델이 개체명을 얼마나 확신하는지 나타냄\n"
   ]
  },
  {
   "cell_type": "markdown",
   "id": "0e9c6860-773c-4b9c-8b86-fe344eb0e4a6",
   "metadata": {},
   "source": [
    "앞의 표에서 word 열에서 해시(hash) 기호(#)는 모델의 토크나이저가 생성함"
   ]
  },
  {
   "cell_type": "markdown",
   "id": "8acef467-504d-48ce-9adf-6b69f8438d9b",
   "metadata": {},
   "source": [
    "### 1.5.3 질문 답변"
   ]
  },
  {
   "cell_type": "markdown",
   "id": "690b404b-6694-4333-b599-659eb531ca97",
   "metadata": {},
   "source": [
    "* 질문 답변에서는 텍스트 구절과 함게 답을 얻고 싶은 질문을 모델에 전달하고, 모델은 답변 텍스트를 반환함"
   ]
  },
  {
   "cell_type": "code",
   "execution_count": 5,
   "id": "4a998f12-5fe5-4a51-9191-ee98f5764530",
   "metadata": {},
   "outputs": [
    {
     "name": "stderr",
     "output_type": "stream",
     "text": [
      "No model was supplied, defaulted to distilbert-base-cased-distilled-squad and revision 626af31 (https://huggingface.co/distilbert-base-cased-distilled-squad).\n",
      "Using a pipeline without specifying a model name and revision in production is not recommended.\n"
     ]
    },
    {
     "data": {
      "text/html": [
       "<div>\n",
       "<style scoped>\n",
       "    .dataframe tbody tr th:only-of-type {\n",
       "        vertical-align: middle;\n",
       "    }\n",
       "\n",
       "    .dataframe tbody tr th {\n",
       "        vertical-align: top;\n",
       "    }\n",
       "\n",
       "    .dataframe thead th {\n",
       "        text-align: right;\n",
       "    }\n",
       "</style>\n",
       "<table border=\"1\" class=\"dataframe\">\n",
       "  <thead>\n",
       "    <tr style=\"text-align: right;\">\n",
       "      <th></th>\n",
       "      <th>score</th>\n",
       "      <th>start</th>\n",
       "      <th>end</th>\n",
       "      <th>answer</th>\n",
       "    </tr>\n",
       "  </thead>\n",
       "  <tbody>\n",
       "    <tr>\n",
       "      <th>0</th>\n",
       "      <td>0.642406</td>\n",
       "      <td>335</td>\n",
       "      <td>358</td>\n",
       "      <td>an exchange of Megatron</td>\n",
       "    </tr>\n",
       "  </tbody>\n",
       "</table>\n",
       "</div>"
      ],
      "text/plain": [
       "      score  start  end                   answer\n",
       "0  0.642406    335  358  an exchange of Megatron"
      ]
     },
     "execution_count": 5,
     "metadata": {},
     "output_type": "execute_result"
    }
   ],
   "source": [
    "reader = pipeline(\"question-answering\")\n",
    "question = \"what does the customer want?\"\n",
    "outputs = reader(question = question, context = text)\n",
    "pd.DataFrame([outputs])"
   ]
  },
  {
   "cell_type": "markdown",
   "id": "0ca1bfcc-387c-46cd-92a2-0ab6e9ddf305",
   "metadata": {},
   "source": [
    "* 파이프라인은 답변과 함께 (NER처럼) 답이 위치한 문자 인덱스에 해당하는 start와 end 정수도 반환\n",
    "\n",
    "  - 질문 답변에는 여러 유형이 있는데, 이 내용은 7장에서 알아봄\n",
    "  \n",
    "* 이 예제의 경우 답변을 텍스트에서 직접 추출하기 때문에 **추출적 질문 답변(extractive question answering)** 이라고 함"
   ]
  },
  {
   "cell_type": "markdown",
   "id": "62cdf96e-6168-4c56-b197-be6ae38a075f",
   "metadata": {},
   "source": [
    "### 1.5.4 요약"
   ]
  },
  {
   "cell_type": "markdown",
   "id": "6a87ad5c-9035-4311-bb7b-52ab1dd6f743",
   "metadata": {},
   "source": [
    "* 텍스트 요약(text summarization)의 목표는 긴 텍스트를 입력으로 받고 관련 사실이 모두 포함된 간단한 버전을 생성하는 것\n",
    "\n",
    "* 모델이 논리적인 텍스트를 생성해야 하므로 이전 문제보다 훨씬 더 복잡한 작업임"
   ]
  },
  {
   "cell_type": "code",
   "execution_count": 6,
   "id": "42a8244f-6bcd-40d9-b5d5-7ba721abc67c",
   "metadata": {},
   "outputs": [
    {
     "name": "stderr",
     "output_type": "stream",
     "text": [
      "No model was supplied, defaulted to sshleifer/distilbart-cnn-12-6 and revision a4f8f3e (https://huggingface.co/sshleifer/distilbart-cnn-12-6).\n",
      "Using a pipeline without specifying a model name and revision in production is not recommended.\n"
     ]
    },
    {
     "name": "stdout",
     "output_type": "stream",
     "text": [
      " Bumblebee ordered an Optimus Prime action figure from your online store in Germany. Unfortunately, when I opened the package, I discovered to my horror that I had been sent an action figure of Megatron instead. As a lifelong enemy of the Decepticons, I hope you can understand my dilemma.\n"
     ]
    }
   ],
   "source": [
    "summarizer = pipeline(\"summarization\")\n",
    "outputs = summarizer(text, max_length = 90, clean_up_tokenization_spaces = True)\n",
    "print(outputs[0]['summary_text'])"
   ]
  },
  {
   "cell_type": "markdown",
   "id": "cf9446b9-a97b-46cf-a7a3-e923f085e63c",
   "metadata": {},
   "source": [
    "* 요약이 아주 나쁘지는 않음. 원본 텍스트의 일부가 복사됐지만 모델이 문제의 핵심을 감지하고 범블비가 불만을 제기한 사람임을 정확히 구분함\n",
    "\n",
    "* 이 예에서는 파이프라인에 max_length와 clean_up_tokenization_spaces 키워드 매개변수를 사용함"
   ]
  },
  {
   "cell_type": "markdown",
   "id": "32ba43c0-cc6b-4048-8fa1-4a52676f57b6",
   "metadata": {},
   "source": [
    "### 1.5.5 번역"
   ]
  },
  {
   "cell_type": "markdown",
   "id": "59f24096-4811-40e8-b4e8-38bc8b4d454f",
   "metadata": {},
   "source": [
    "* 요약과 마찬가지로, 번역 또한 텍스트를 생성해 출력하는 작업\n",
    "\n",
    "* 번역 파이프라인을 사용해 영어 텍스트를 독일어로 번역"
   ]
  },
  {
   "cell_type": "code",
   "execution_count": 7,
   "id": "7ad7524c-1640-4666-907c-4e8bab28c8a6",
   "metadata": {},
   "outputs": [
    {
     "name": "stderr",
     "output_type": "stream",
     "text": [
      "/home/bread/anaconda3/envs/py31011/lib/python3.10/site-packages/transformers/models/marian/tokenization_marian.py:194: UserWarning: Recommended: pip install sacremoses.\n",
      "  warnings.warn(\"Recommended: pip install sacremoses.\")\n"
     ]
    },
    {
     "name": "stdout",
     "output_type": "stream",
     "text": [
      "Sehr geehrter Amazon, letzte Woche habe ich eine Optimus Prime Action Figur aus Ihrem Online-Shop in Deutschland bestellt. Leider, als ich das Paket öffnete, entdeckte ich zu meinem Entsetzen, dass ich stattdessen eine Action Figur von Megatron geschickt worden war! Als lebenslanger Feind der Decepticons, Ich hoffe, Sie können mein Dilemma verstehen. Um das Problem zu lösen, Ich fordere einen Austausch von Megatron für die Optimus Prime Figur habe ich bestellt. Anbei sind Kopien meiner Aufzeichnungen über diesen Kauf. Ich erwarte, bald von Ihnen zu hören. Aufrichtig, Bumblebee.\n"
     ]
    }
   ],
   "source": [
    "translator = pipeline(\"translation_en_to_de\", \n",
    "                      model=\"Helsinki-NLP/opus-mt-en-de\")\n",
    "outputs = translator(text, clean_up_tokenization_spaces=True, min_length=100)\n",
    "print(outputs[0]['translation_text'])"
   ]
  },
  {
   "cell_type": "markdown",
   "id": "42c887cb-8251-415d-8cec-8214474b5fd3",
   "metadata": {},
   "source": [
    "* 이번에도 매우 잘 번역함. 파이프라인의 기본 모델을 오버라이드 해서 애플리케이션에 가장 잘 맞는 모델을 선택함"
   ]
  },
  {
   "cell_type": "markdown",
   "id": "33efe9d4-cf59-4769-886e-397b0f5a60fb",
   "metadata": {},
   "source": [
    "### 1.5.6 텍스트 생성"
   ]
  },
  {
   "cell_type": "markdown",
   "id": "85b08ee5-939e-4390-b493-b9233d806823",
   "metadata": {},
   "source": [
    "* 자동 완성 기능으로 고객 피드백에 빠르게 응답하고 싶다고 가정\n",
    "\n",
    "  - 이때 텍스트 생성 모델을 사용"
   ]
  },
  {
   "cell_type": "code",
   "execution_count": 8,
   "id": "a8a346e3-8505-43d5-af90-3f54fe5a535f",
   "metadata": {},
   "outputs": [],
   "source": [
    "from transformers import set_seed\n",
    "set_seed(42) # 동일 결과를 재현하기 위해 지정"
   ]
  },
  {
   "cell_type": "code",
   "execution_count": 9,
   "id": "93ed1117-9d01-44b3-b102-8e0e5676dff2",
   "metadata": {},
   "outputs": [],
   "source": [
    "# from transformers import pipeline, set_seed\n",
    "# generator = pipeline('text-generation', model='gpt2', tokenizer='gpt2', pad_token_id=0, eos_token_id=1)"
   ]
  },
  {
   "cell_type": "code",
   "execution_count": 10,
   "id": "d52f7687-9ac4-4e40-89b0-515e4da4208e",
   "metadata": {},
   "outputs": [
    {
     "name": "stdout",
     "output_type": "stream",
     "text": [
      "4.28.1\n"
     ]
    }
   ],
   "source": [
    "import transformers\n",
    "\n",
    "print(transformers.__version__)"
   ]
  },
  {
   "cell_type": "code",
   "execution_count": 11,
   "id": "acc45586-e4dc-4b48-a662-78fe2c012c48",
   "metadata": {},
   "outputs": [
    {
     "name": "stdout",
     "output_type": "stream",
     "text": [
      "fatal: 대상 경로가('nlp-with-transformers') 이미 있고 빈 디렉터리가 아닙니다.\n",
      "/home/bread/A_data_practice/transformer/nlp-with-transformers\n",
      "⏳ Installing base requirements ...\n",
      "✅ Base requirements installed!\n",
      "Using transformers v4.28.1\n",
      "Using datasets v2.12.0\n",
      "Using accelerate v0.18.0\n",
      "Using sentencepiece v0.1.98\n",
      "Using sacremoses v0.0.41\n"
     ]
    }
   ],
   "source": [
    "# 코랩을 사용하지 않으면 이 셀의 코드를 주석 처리하세요.\n",
    "!git clone https://github.com/rickiepark/nlp-with-transformers.git\n",
    "%cd nlp-with-transformers\n",
    "from install import *\n",
    "install_requirements(chapter=1)"
   ]
  },
  {
   "cell_type": "code",
   "execution_count": 12,
   "id": "d5b23789-13ad-4c01-82e8-9a08dfaaa528",
   "metadata": {},
   "outputs": [
    {
     "name": "stderr",
     "output_type": "stream",
     "text": [
      "/home/bread/anaconda3/envs/py31011/lib/python3.10/site-packages/transformers/generation/utils.py:1219: UserWarning: You have modified the pretrained model configuration to control generation. This is a deprecated strategy to control generation and will be removed soon, in a future version. Please use a generation configuration file (see https://huggingface.co/docs/transformers/main_classes/text_generation)\n",
      "  warnings.warn(\n"
     ]
    },
    {
     "name": "stdout",
     "output_type": "stream",
     "text": [
      "Dear Amazon, last week I ordered an Optimus Prime action figure from your online\n",
      "store in Germany. Unfortunately, when I opened the package, I discovered to my\n",
      "horror that I had been sent an action figure of Megatron instead! As a lifelong\n",
      "enemy of the Decepticons, I hope you can understand my dilemma. To resolve the\n",
      "issue, I demand an exchange of Megatron for the Optimus Prime figure I ordered.\n",
      "Enclosed are copies of my records concerning this purchase. I expect to hear\n",
      "from you soon. Sincerely, Bumblebee.\n",
      "\n",
      "Customer service response:\n",
      "Dear Bumblebee, I am sorry to hear that your order was mixed up. For one, I\n",
      "received a paper file from a store just outside your country and sent it to you\n",
      "by a customer whose name was not listed.\n",
      "\n",
      "To remove any further records, however, I can make sure I can send a copy of my\n",
      "purchase to you via USPS.\n",
      "\n",
      "Any questions or comments?\n",
      "\n",
      "I need\n"
     ]
    }
   ],
   "source": [
    "from transformers import set_seed\n",
    "from transformers import pipeline\n",
    "set_seed(42) # 동일 결과를 재현하기 위해 지정\n",
    "\n",
    "generator = pipeline(\"text-generation\")\n",
    "response = \"Dear Bumblebee, I am sorry to hear that your order was mixed up.\"\n",
    "prompt = text + \"\\n\\nCustomer service response:\\n\" + response\n",
    "outputs = generator(prompt, max_length=200)\n",
    "print(outputs[0]['generated_text'])"
   ]
  },
  {
   "cell_type": "code",
   "execution_count": 13,
   "id": "7494ab88-9219-428c-ac4a-68993f7be7d1",
   "metadata": {},
   "outputs": [
    {
     "name": "stdout",
     "output_type": "stream",
     "text": [
      "3.10.11 (main, Apr 20 2023, 19:02:41) [GCC 11.2.0]\n"
     ]
    }
   ],
   "source": [
    "import sys\n",
    "print(sys.version)"
   ]
  },
  {
   "cell_type": "code",
   "execution_count": 14,
   "id": "26615164-503c-4860-a2f8-50d57ce47746",
   "metadata": {},
   "outputs": [
    {
     "name": "stdout",
     "output_type": "stream",
     "text": [
      "2.0.0+cu117\n"
     ]
    }
   ],
   "source": [
    "import torch\n",
    "print(torch.__version__)\n"
   ]
  },
  {
   "cell_type": "markdown",
   "id": "07a29a27-560e-4678-91d3-9e35cb98662f",
   "metadata": {},
   "source": [
    "* 허깅페이스 트랜스포머스 생태계에는 최신 머신러닝 워크플로 대부분을 지원하는 유용한 도구가 많음"
   ]
  },
  {
   "cell_type": "markdown",
   "id": "f9c0f4cc-9110-4b29-a49e-e6083f02866b",
   "metadata": {},
   "source": [
    "## 1.6 허깅페이스 생태계"
   ]
  },
  {
   "cell_type": "markdown",
   "id": "f87aaa4c-5882-4f88-80b9-d1be9d373536",
   "metadata": {},
   "source": [
    "* 허깅페이스 트랜스포머스는 NLP와 머신러닝 프로젝트의 속도를 높이는 다양한 라이브러리와 도구를 갖춘 생태계로 빠르게 성장함\n"
   ]
  },
  {
   "cell_type": "markdown",
   "id": "c17d6a64-3f9f-43d6-bbe5-45e63049a9d0",
   "metadata": {},
   "source": [
    "### 1.6.1 허깅페이스 허브"
   ]
  },
  {
   "cell_type": "markdown",
   "id": "62d8883a-3e97-4046-b661-b836eef730bf",
   "metadata": {},
   "source": [
    "* 허브는 모델 가중치 외에 데이터셋과 평가 지표 계산을 위한 스크립트도 호스팅하고 있어 공개된 결과를 재현하거나 애플리케이션에 활용 가능한 추가 데이터를 얻는 데 유용함\n",
    "\n",
    "  - 허브는 모델과 데이터셋 내용을 문서화한 모델 카드와 데이터셋 카드도 제공하므로 자신에게 적합한지 여부를 정보에 입각해 결정하는데 도움이 됨"
   ]
  },
  {
   "cell_type": "markdown",
   "id": "8158db9c-3f17-4df1-a1df-4dbb4812370e",
   "metadata": {},
   "source": [
    "*(NOTE) 파이토치와 텐서플로도 각각 허브를 제공하므로 허깅페이스 허브에 특정 모델이나 데이터셋이 없다면 이들 허브를 확인해보세요.* "
   ]
  },
  {
   "cell_type": "markdown",
   "id": "66e54d97-bdd7-48ff-8390-1eaa8f424474",
   "metadata": {},
   "source": [
    "### 1.6.2 허깅페이스 토크나이저\n",
    "\n",
    "  - https://github.com/huggingface/transformers/blob/main/README_ko.md"
   ]
  },
  {
   "cell_type": "markdown",
   "id": "b29de244-644b-4f7a-97f7-a4bca7dad380",
   "metadata": {},
   "source": [
    "* 허깅페이스 토크나이저는 다양한 토큰화 전략을 제공, 러스트 백엔드 덕분에 매우 빠르게 텍스트를 토큰화함\n",
    "\n",
    "* 입력을 정규화하거나 모델 출력을 적절한 포맷으로 변환하는 등의 모든 전처리, 사후처리 단계를 처리함\n",
    "\n",
    "  - 허깅페이스 토크나이저를 사용하면, 허깅페이스 트랜스포머스로 사전 훈련된 모델 가중치를 로드하는 방식으로 토크나이저를 로드할 수 있음\n",
    "  \n",
    "  - 모델을 훈련하고 평가하려면 데이터셋과 평가 방법이 필요함\n",
    "  \n",
    "     + 이런 일을 담당하느 허깅페이스 데이터셋을 살펴봄"
   ]
  },
  {
   "cell_type": "markdown",
   "id": "bc8c5887-7f9e-4c85-ae1f-9db9b56bb4fe",
   "metadata": {},
   "source": [
    "### 1.6.3 허깅페이스 데이터셋\n",
    "\n",
    "  - https://github.com/huggingface/datasets\n",
    "  \n",
    "  - https://huggingface.co/datasets"
   ]
  },
  {
   "cell_type": "markdown",
   "id": "bdcffd66-d10a-4b73-9699-6b4084a0a241",
   "metadata": {},
   "source": [
    "* 허깅페이스 데이터셋은 이련의 과정을 허브에서 찾을 수 있는 수천 개의 데이터셋에 대한 표준 인터페이스를 제공해 단순화 함\n",
    "\n",
    "  - 스마트한 캐싱을 제공하고 메모리 매핑이라는 특별한 메커니즘을 활용해 램 부족을 피함\n",
    "   \n",
    "    + 메모리 매핑은 파일 내용을 가상 메모리에 저장하고 여러 개의 프로세스로 더 효율적으로 파일을 수정함\n",
    "    \n",
    "    + 이 라이브러리는 판다스와 넘파이와 같은 인기 있는 프레임 워크와 상호 운여이 가능하며, 즐겨 사용하는 데이터 랭글링 도구를 그대로 사용해도 좋음"
   ]
  },
  {
   "cell_type": "markdown",
   "id": "c1b3cdf6-4f66-456b-a5d0-a9976ffc9bbf",
   "metadata": {},
   "source": [
    "* 허깅페이스 트랜스포머스, 허깅페이스 토크나이저, 허깅페이스 데이터셋 라이브러리를 사용하면 자신만의 트랜스포머 모델을 훈련할 수 있음\n",
    "\n",
    "  - 훈련 루프를 미세하게 제어할 때가 있는데, 이를 위해 이 생태계의 마지막 라이브러리인 허깅페이스 엑셀러레이트가 필요함"
   ]
  },
  {
   "cell_type": "markdown",
   "id": "099e6c9b-0cd8-46d6-af3a-19d0caddf3a5",
   "metadata": {},
   "source": [
    "### 1.6.4 허깅페이스 액셀러레이트\n",
    "\n",
    "  - https://github.com/huggingface/accelerate"
   ]
  },
  {
   "cell_type": "markdown",
   "id": "9c014fc8-8f8f-48d9-b8ee-dea547d07671",
   "metadata": {},
   "source": [
    "* 파이토치로 훈련 스크립트를 작성해봤다면 랩톱에서 실행되는 코드를 회사 클러스터로 포팅할 때 어려웠던 경험이 있을 것임\n",
    "\n",
    "* 허깅페이스 액셀러레이트는 사용자 정의의 로직을 처리하는 일반적인 훈련 루프에 훈련 인프라에 필요한 추상화 층을 추가함\n",
    "\n",
    "  - 말 그대로 필요한 인프라 전환을 단순화해 워크플로우를 가속화함"
   ]
  }
 ],
 "metadata": {
  "hide_input": false,
  "kernelspec": {
   "display_name": "Python 3 (ipykernel)",
   "language": "python",
   "name": "python3"
  },
  "language_info": {
   "codemirror_mode": {
    "name": "ipython",
    "version": 3
   },
   "file_extension": ".py",
   "mimetype": "text/x-python",
   "name": "python",
   "nbconvert_exporter": "python",
   "pygments_lexer": "ipython3",
   "version": "3.10.11"
  },
  "varInspector": {
   "cols": {
    "lenName": 16,
    "lenType": 16,
    "lenVar": 40
   },
   "kernels_config": {
    "python": {
     "delete_cmd_postfix": "",
     "delete_cmd_prefix": "del ",
     "library": "var_list.py",
     "varRefreshCmd": "print(var_dic_list())"
    },
    "r": {
     "delete_cmd_postfix": ") ",
     "delete_cmd_prefix": "rm(",
     "library": "var_list.r",
     "varRefreshCmd": "cat(var_dic_list()) "
    }
   },
   "types_to_exclude": [
    "module",
    "function",
    "builtin_function_or_method",
    "instance",
    "_Feature"
   ],
   "window_display": false
  }
 },
 "nbformat": 4,
 "nbformat_minor": 5
}
